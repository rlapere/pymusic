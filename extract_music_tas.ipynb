{
 "cells": [
  {
   "cell_type": "markdown",
   "metadata": {},
   "source": [
    "# Generating a MIDI music file from a time series: a mostly useless but quite cool routine\n",
    "*Rémy Lapere - eScience course - 8/11/2022*\n",
    "\n",
    "The key library for that is miditime. Then, all you need to do is build an array specifying (time, pitch, velocity, duration) for every time step. The pitch is based on the values in the time series.\n",
    "\n",
    "In this example we will compose the original music: *Evolution of annual mean temperature in the Arctic in C minor* from NorESM CMIP6 data in scenario ssp585.\n",
    "\n",
    "Main steps:\n",
    "- define the minimum and maximum pitch\n",
    "- rescale the data to this range\n",
    "- apply a key to obtain a nicer harmony\n",
    "- manipulate the data to avoid repetitions and generate info on time, velocity and duration\n",
    "- generate a MIDI file\n",
    "- export that MIDI file to your favorite software\n",
    "\n",
    "For a more comprehensive reference see *de Mora et al., 2020* - https://gc.copernicus.org/articles/3/263/2020/",
     "\n",
    "NB: you will most likely need to *pip install miditime* first"
   ]
  },
  {
   "cell_type": "code",
   "execution_count": 1,
   "metadata": {},
   "outputs": [],
   "source": [
    "import xarray as xr\n",
    "xr.set_options(display_style='html')\n",
    "import intake\n",
    "import cftime\n",
    "import numpy as np\n",
    "import pandas as pd\n",
    "from miditime.miditime import MIDITime"
   ]
  },
  {
   "cell_type": "markdown",
   "metadata": {},
   "source": [
    "Define minimum and maximum notes for the song (middle C is 60, below 25 is very low, higher than 100 is very high). A unit corresponds to a semitone."
   ]
  },
  {
   "cell_type": "code",
   "execution_count": 2,
   "metadata": {},
   "outputs": [],
   "source": [
    "minpitch, maxpitch = 24, 96"
   ]
  },
  {
   "cell_type": "markdown",
   "metadata": {},
   "source": [
    "Load data from pangeo (here surface temperature in historical and ssp585 experiments)"
   ]
  },
  {
   "cell_type": "code",
   "execution_count": 3,
   "metadata": {},
   "outputs": [],
   "source": [
    "cat_url = \"https://storage.googleapis.com/cmip6/pangeo-cmip6.json\"\n",
    "col = intake.open_esm_datastore(cat_url)\n",
    "cat = col.search(variable_id=['tas'], member_id=['r1i1p1f1'], source_id=['NorESM2-LM'], experiment_id=['historical','ssp585'], table_id=['Amon'])"
   ]
  },
  {
   "cell_type": "code",
   "execution_count": 4,
   "metadata": {},
   "outputs": [
    {
     "name": "stdout",
     "output_type": "stream",
     "text": [
      "\n",
      "--> The keys in the returned dictionary of datasets are constructed as follows:\n",
      "\t'activity_id.institution_id.source_id.experiment_id.table_id.grid_label'\n"
     ]
    },
    {
     "data": {
      "text/html": [
       "\n",
       "<style>\n",
       "    /* Turns off some styling */\n",
       "    progress {\n",
       "        /* gets rid of default border in Firefox and Opera. */\n",
       "        border: none;\n",
       "        /* Needs to be in here for Safari polyfill so background images work as expected. */\n",
       "        background-size: auto;\n",
       "    }\n",
       "    progress:not([value]), progress:not([value])::-webkit-progress-bar {\n",
       "        background: repeating-linear-gradient(45deg, #7e7e7e, #7e7e7e 10px, #5c5c5c 10px, #5c5c5c 20px);\n",
       "    }\n",
       "    .progress-bar-interrupted, .progress-bar-interrupted::-webkit-progress-bar {\n",
       "        background: #F44336;\n",
       "    }\n",
       "</style>\n"
      ],
      "text/plain": [
       "<IPython.core.display.HTML object>"
      ]
     },
     "metadata": {},
     "output_type": "display_data"
    },
    {
     "data": {
      "text/html": [
       "\n",
       "    <div>\n",
       "      <progress value='2' class='' max='2' style='width:300px; height:20px; vertical-align: middle;'></progress>\n",
       "      100.00% [2/2 00:00&lt;00:00]\n",
       "    </div>\n",
       "    "
      ],
      "text/plain": [
       "<IPython.core.display.HTML object>"
      ]
     },
     "metadata": {},
     "output_type": "display_data"
    }
   ],
   "source": [
    "dset_dict = cat.to_dataset_dict(zarr_kwargs={'use_cftime':True})"
   ]
  },
  {
   "cell_type": "code",
   "execution_count": 5,
   "metadata": {},
   "outputs": [],
   "source": [
    "dataset_list = list(dset_dict.keys())"
   ]
  },
  {
   "cell_type": "code",
   "execution_count": 6,
   "metadata": {},
   "outputs": [],
   "source": [
    "AR_hist = dset_dict[dataset_list[1]] # historical experiment\n",
    "AR_fut5 = dset_dict[dataset_list[0]] # ssp585 experiment"
   ]
  },
  {
   "cell_type": "markdown",
   "metadata": {},
   "source": [
    "Extract the area/period of interest, and rescale the time series to the range of authorized pitch"
   ]
  },
  {
   "cell_type": "code",
   "execution_count": 7,
   "metadata": {},
   "outputs": [],
   "source": [
    "def ext_pole():\n",
    "    \"\"\"\n",
    "    function for extraction area/period of interest\n",
    "    and concatenate into a single numpy\n",
    "    \"\"\"\n",
    "    lmi,lma = 60,90\n",
    "\n",
    "    AR_hist_yr_ARC = AR_hist.sel(lat=slice(lmi,lma))\n",
    "    AR_hist_yr_ARC = AR_hist_yr_ARC.reduce(np.mean,dim=('lat','lon'))\n",
    "    AR_hist_yr_ARC = AR_hist_yr_ARC.resample(time='1Y').mean()\n",
    "    histar = AR_hist_yr_ARC.tas.values\n",
    "\n",
    "    arc585 = AR_fut5.sel(lat=slice(lmi,lma))\n",
    "    arc585 = arc585.reduce(np.mean,dim=('lat','lon'))\n",
    "    arc585 = arc585.resample(time='1Y').mean()\n",
    "    arc585 = arc585.tas.values\n",
    "    \n",
    "    out585 = np.append(histar,arc585)\n",
    "    return out585\n",
    "    \n",
    "n585 = ext_pole()\n",
    "\n",
    "mini = np.min(n585)\n",
    "maxi = np.max(n585)\n",
    "\n",
    "# normalize data to [0,1]\n",
    "n585_ = (n585-mini)/(maxi-mini)\n",
    "\n",
    "# apply a mapping to the range of authorized min/max pitch\n",
    "n585_ = minpitch+n585_*(maxpitch-minpitch)\n",
    "\n",
    "# if you want to associate increasing temperature with lower pitch notes\n",
    "n585_ = minpitch-n585_+maxpitch\n",
    "\n",
    "# make it an integer type because MIDI only handles semitones\n",
    "n585_ = n585_.astype(int)\n",
    "\n",
    "# store notes into a data set along with time steps\n",
    "df_ = pd.DataFrame({'val':n585_,'step':range(len(n585_))})"
   ]
  },
  {
   "cell_type": "markdown",
   "metadata": {},
   "source": [
    "- So far we have a list of notes and time steps... but not all the notes can work together in harmony.\n",
    "\n",
    "- In the next part we interpolate the notes to the nearest \"authorized\" note according to the chosen key.\n",
    "\n",
    "- Here the example key is C minor, i.e. authorized notes are: C,Eb,G.\n",
    "\n",
    "- Our 'zero' note is 24 which corresponds to C, 2 octaves (1 octave is 12 semitones) below middle C.\n",
    "\n",
    "- Therefore the list of authorized notes is {0,3,7}mod(12)"
   ]
  },
  {
   "cell_type": "code",
   "execution_count": 8,
   "metadata": {},
   "outputs": [],
   "source": [
    "def _to_chords_(df, key):\n",
    "    \"\"\"\n",
    "    function to map the original notes to the defined key\n",
    "    \"\"\"\n",
    "    notes = range(len(np.arange(minpitch,maxpitch+1,1)))\n",
    "    notes_ = np.arange(minpitch,maxpitch+1,1)\n",
    "    dom = np.mod(notes,12)==key[0]\n",
    "    tir = np.mod(notes,12)==key[1]\n",
    "    qui = np.mod(notes,12)==key[2]\n",
    "    auth = dom+tir+qui\n",
    "    auth_notes = notes_[auth]\n",
    "    notin = df.val.values\n",
    "    i=0\n",
    "    for nn in notin:\n",
    "        dist = np.abs(auth_notes-nn)\n",
    "        tru_note = auth_notes[np.argmin(dist)]\n",
    "        notin[i] = tru_note\n",
    "        i=i+1\n",
    "    df['val'] = notin\n",
    "    return df"
   ]
  },
  {
   "cell_type": "code",
   "execution_count": 9,
   "metadata": {},
   "outputs": [],
   "source": [
    "def extract_sdt(indata,kkeys):\n",
    "    \"\"\"\n",
    "    function to aggregate consecutive notes\n",
    "    and includes info on duration/velocity\n",
    "    \"\"\"\n",
    "    didif = [indata['step'].values[0]]\n",
    "    indata = _to_chords_(indata,kkeys)\n",
    "    for i in np.arange(1,len(indata.val.values)):\n",
    "        if indata['val'].values[i]==indata['val'].values[i-1]:\n",
    "            didif = np.append(didif,indata['step'].values[i-1])\n",
    "        else:\n",
    "            didif = np.append(didif,indata['step'].values[i])\n",
    "    indata['dif'] = didif\n",
    "    steps = indata.groupby(['dif','val'],as_index=False).count().step.values\n",
    "    vals = (indata.groupby(['dif','val'],as_index=False).mean().val.values).astype(int)\n",
    "    new_df = pd.DataFrame({'note':vals,\n",
    "                       'steps':np.cumsum(steps)-np.min(np.cumsum(steps)),\n",
    "                       'duration':np.append(steps[1:],2),\n",
    "                      'force':np.repeat(127,len(steps))})\n",
    "    for j in np.arange(1,len(new_df.note.values)):\n",
    "        if new_df.note.values[j] == new_df.note.values[j-1]:\n",
    "            new_df.steps[j] = new_df.steps.values[j-1]\n",
    "    dur = new_df.groupby(['steps'],as_index=False).sum().duration.values\n",
    "    new_df = new_df.drop_duplicates(['steps','note'])\n",
    "    new_df.duration = dur\n",
    "    new_df['force'] = np.linspace(100,126,len(dur)).astype(int)\n",
    "    new_df = new_df[['steps','note','force','duration']]\n",
    "    return new_df\n",
    "\n",
    "ext_mus = extract_sdt(df_,[0,3,7])\n",
    "# save to csv\n",
    "ext_mus.to_csv('arc_tas_music_585')"
   ]
  },
  {
   "cell_type": "code",
   "execution_count": 11,
   "metadata": {},
   "outputs": [
    {
     "name": "stdout",
     "output_type": "stream",
     "text": [
      "87 0 1 100\n",
      "91 1 1 100\n",
      "79 2 2 100\n",
      "84 4 2 100\n",
      "87 6 2 100\n",
      "84 8 2 100\n",
      "91 10 3 100\n",
      "87 13 1 101\n",
      "91 14 2 101\n",
      "87 16 1 101\n",
      "91 17 2 101\n",
      "87 19 8 101\n",
      "79 27 2 101\n",
      "87 29 1 102\n",
      "84 30 2 102\n",
      "87 32 2 102\n",
      "84 34 3 102\n",
      "87 37 1 102\n",
      "84 38 1 102\n",
      "87 39 1 103\n",
      "84 40 1 103\n",
      "87 41 1 103\n",
      "84 42 1 103\n",
      "79 43 1 103\n",
      "84 44 2 103\n",
      "79 46 1 104\n",
      "84 47 1 104\n",
      "75 48 2 104\n",
      "79 50 3 104\n",
      "87 53 2 104\n",
      "84 55 3 104\n",
      "87 58 1 104\n",
      "84 59 1 105\n",
      "87 60 1 105\n",
      "79 61 2 105\n",
      "87 63 2 105\n",
      "96 65 1 105\n",
      "87 66 2 105\n",
      "84 68 2 106\n",
      "79 70 1 106\n",
      "91 71 1 106\n",
      "79 72 1 106\n",
      "75 73 1 106\n",
      "84 74 1 106\n",
      "79 75 1 107\n",
      "84 76 1 107\n",
      "87 77 1 107\n",
      "84 78 1 107\n",
      "79 79 1 107\n",
      "84 80 2 107\n",
      "87 82 1 108\n",
      "84 83 2 108\n",
      "87 85 3 108\n",
      "84 88 1 108\n",
      "91 89 1 108\n",
      "79 90 2 108\n",
      "84 92 4 108\n",
      "79 96 2 109\n",
      "84 98 1 109\n",
      "79 99 1 109\n",
      "87 100 1 109\n",
      "79 101 1 109\n",
      "75 102 1 109\n",
      "79 103 1 110\n",
      "84 104 2 110\n",
      "79 106 1 110\n",
      "72 107 1 110\n",
      "84 108 2 110\n",
      "79 110 2 110\n",
      "87 112 1 111\n",
      "84 113 1 111\n",
      "87 114 2 111\n",
      "84 116 1 111\n",
      "91 117 1 111\n",
      "87 118 2 111\n",
      "84 120 2 112\n",
      "79 122 2 112\n",
      "84 124 1 112\n",
      "87 125 1 112\n",
      "84 126 1 112\n",
      "87 127 1 112\n",
      "79 128 1 113\n",
      "75 129 2 113\n",
      "79 131 4 113\n",
      "75 135 1 113\n",
      "79 136 1 113\n",
      "84 137 2 113\n",
      "79 139 1 113\n",
      "72 140 1 114\n",
      "79 141 1 114\n",
      "72 142 2 114\n",
      "79 144 2 114\n",
      "75 146 2 114\n",
      "72 148 3 114\n",
      "67 151 2 115\n",
      "75 153 1 115\n",
      "79 154 1 115\n",
      "72 155 1 115\n",
      "75 156 1 115\n",
      "72 157 1 115\n",
      "67 158 1 116\n",
      "75 159 2 116\n",
      "67 161 2 116\n",
      "72 163 1 116\n",
      "63 164 2 116\n",
      "72 166 1 116\n",
      "75 167 1 117\n",
      "72 168 2 117\n",
      "67 170 1 117\n",
      "72 171 2 117\n",
      "63 173 1 117\n",
      "67 174 2 117\n",
      "72 176 3 117\n",
      "67 179 4 118\n",
      "63 183 1 118\n",
      "67 184 1 118\n",
      "63 185 1 118\n",
      "67 186 1 118\n",
      "63 187 1 118\n",
      "67 188 1 119\n",
      "63 189 1 119\n",
      "72 190 1 119\n",
      "60 191 2 119\n",
      "67 193 1 119\n",
      "63 194 1 119\n",
      "67 195 1 120\n",
      "63 196 1 120\n",
      "67 197 2 120\n",
      "63 199 3 120\n",
      "60 202 2 120\n",
      "55 204 3 120\n",
      "51 207 1 121\n",
      "55 208 1 121\n",
      "51 209 1 121\n",
      "48 210 2 121\n",
      "51 212 2 121\n",
      "48 214 1 121\n",
      "55 215 1 121\n",
      "51 216 1 122\n",
      "48 217 1 122\n",
      "55 218 2 122\n",
      "48 220 2 122\n",
      "43 222 1 122\n",
      "48 223 1 122\n",
      "51 224 1 123\n",
      "39 225 1 123\n",
      "43 226 1 123\n",
      "39 227 1 123\n",
      "43 228 1 123\n",
      "39 229 2 123\n",
      "36 231 1 124\n",
      "31 232 2 124\n",
      "36 234 3 124\n",
      "31 237 1 124\n",
      "36 238 2 124\n",
      "31 240 3 124\n",
      "27 243 1 125\n",
      "31 244 2 125\n",
      "27 246 1 125\n",
      "24 247 1 125\n",
      "27 248 1 125\n",
      "24 249 1 125\n",
      "27 250 2 126\n"
     ]
    }
   ],
   "source": [
    "def to_midi(infile,nm):\n",
    "    \"\"\"\n",
    "    function to convert the data to MIDI file\n",
    "    \"\"\"\n",
    "    mymidi = MIDITime(160, nm+'.mid') # 160 is the tempo\n",
    "    music = np.array(pd.read_csv(infile,skiprows=1,header=None,index_col=0)).tolist()\n",
    "    # Add a track with those notes                                                                                                                                                                              \n",
    "    mymidi.add_track(music)\n",
    "    # Output the .mid file                                                                                                                                                                                      \n",
    "    mymidi.save_midi()\n",
    "    \n",
    "# the exported MIDI file can be played with a dedicated audio player (e.g. GarageBand)\n",
    "to_midi('arc_tas_music_585','arc_tas_music_585')"
   ]
  },
  {
   "cell_type": "code",
   "execution_count": null,
   "metadata": {},
   "outputs": [],
   "source": []
  }
 ],
 "metadata": {
  "kernelspec": {
   "display_name": "Python 3 (ipykernel)",
   "language": "python",
   "name": "python3"
  },
  "language_info": {
   "codemirror_mode": {
    "name": "ipython",
    "version": 3
   },
   "file_extension": ".py",
   "mimetype": "text/x-python",
   "name": "python",
   "nbconvert_exporter": "python",
   "pygments_lexer": "ipython3",
   "version": "3.9.13"
  }
 },
 "nbformat": 4,
 "nbformat_minor": 4
}
